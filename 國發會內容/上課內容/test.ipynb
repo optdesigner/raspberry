{
 "cells": [
  {
   "cell_type": "code",
   "execution_count": 2,
   "metadata": {},
   "outputs": [],
   "source": [
    "import RPi.GPIO as GPIO"
   ]
  },
  {
   "cell_type": "code",
   "execution_count": 4,
   "metadata": {},
   "outputs": [
    {
     "name": "stdout",
     "output_type": "stream",
     "text": [
      "送出成功\n"
     ]
    }
   ],
   "source": [
    "import requests\n",
    "url = 'https://maker.ifttt.com/trigger/ledState/with/key/eDqcZfqY_i_BHCZVXCwb6aq7GLPKpdV4q1ePja35Mj'\n",
    "myjson = {\"value1\":\"開\"}\n",
    "response=requests.request(method=\"POST\",\n",
    "                 url=url,\n",
    "                 headers={\"Content-Type\":\"application/json\"},\n",
    "                 params=myjson\n",
    "                 )\n",
    "if response.ok:\n",
    "    print(\"送出成功\")"
   ]
  }
 ],
 "metadata": {
  "kernelspec": {
   "display_name": "Python 3.9.2 ('venv01': venv)",
   "language": "python",
   "name": "python3"
  },
  "language_info": {
   "codemirror_mode": {
    "name": "ipython",
    "version": 3
   },
   "file_extension": ".py",
   "mimetype": "text/x-python",
   "name": "python",
   "nbconvert_exporter": "python",
   "pygments_lexer": "ipython3",
   "version": "3.9.2"
  },
  "orig_nbformat": 4,
  "vscode": {
   "interpreter": {
    "hash": "41be5fdeea6ea2cb982cd2367ad47f08cff43464addce1d5f62669a5f6c898eb"
   }
  }
 },
 "nbformat": 4,
 "nbformat_minor": 2
}
