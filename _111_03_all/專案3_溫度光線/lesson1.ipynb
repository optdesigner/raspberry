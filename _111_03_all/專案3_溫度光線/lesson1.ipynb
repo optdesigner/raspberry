{
 "cells": [
  {
   "cell_type": "code",
   "execution_count": 3,
   "metadata": {},
   "outputs": [
    {
     "name": "stdout",
     "output_type": "stream",
     "text": [
      "2018\n",
      "10\n",
      "9\n"
     ]
    }
   ],
   "source": [
    "from datetime import date\n",
    "halloween = date(2018, 10, 9)\n",
    "print(halloween.year)\n",
    "print(halloween.month)\n",
    "print(halloween.day)"
   ]
  },
  {
   "cell_type": "code",
   "execution_count": 7,
   "metadata": {},
   "outputs": [
    {
     "name": "stdout",
     "output_type": "stream",
     "text": [
      "2022\n",
      "11\n",
      "2\n",
      "2022\n",
      "11\n",
      "3\n"
     ]
    }
   ],
   "source": [
    "from datetime import timedelta\n",
    "now = date.today()\n",
    "print(now.year)\n",
    "print(now.month)\n",
    "print(now.day)\n",
    "\n",
    "one_day = timedelta(days=1)\n",
    "\n",
    "tomorrow = now +  one_day\n",
    "print(tomorrow.year)\n",
    "print(tomorrow.month)\n",
    "print(tomorrow.day)"
   ]
  },
  {
   "cell_type": "code",
   "execution_count": null,
   "metadata": {},
   "outputs": [],
   "source": []
  }
 ],
 "metadata": {
  "kernelspec": {
   "display_name": "Python 3.9.2 ('venv03')",
   "language": "python",
   "name": "python3"
  },
  "language_info": {
   "codemirror_mode": {
    "name": "ipython",
    "version": 3
   },
   "file_extension": ".py",
   "mimetype": "text/x-python",
   "name": "python",
   "nbconvert_exporter": "python",
   "pygments_lexer": "ipython3",
   "version": "3.9.2"
  },
  "orig_nbformat": 4,
  "vscode": {
   "interpreter": {
    "hash": "b1299a2eddcb40e7fc558369c68bc0d1e7453177307a99c2cb1309587b793d91"
   }
  }
 },
 "nbformat": 4,
 "nbformat_minor": 2
}
