{
 "cells": [
  {
   "cell_type": "code",
   "execution_count": 5,
   "metadata": {},
   "outputs": [
    {
     "name": "stdout",
     "output_type": "stream",
     "text": [
      "2022-11-02.csv\n"
     ]
    }
   ],
   "source": [
    "import os\n",
    "from datetime import date \n",
    "if not os.path.isdir('./data'):\n",
    "    os.mkdir(\"data\")\n",
    "\n",
    "\n",
    "\n",
    "today = date.today()\n",
    "filename = today.strftime(\"%Y-%m-%d.csv\")\n",
    "print(filename)"
   ]
  }
 ],
 "metadata": {
  "kernelspec": {
   "display_name": "Python 3.9.2 ('venv03')",
   "language": "python",
   "name": "python3"
  },
  "language_info": {
   "codemirror_mode": {
    "name": "ipython",
    "version": 3
   },
   "file_extension": ".py",
   "mimetype": "text/x-python",
   "name": "python",
   "nbconvert_exporter": "python",
   "pygments_lexer": "ipython3",
   "version": "3.9.2"
  },
  "orig_nbformat": 4,
  "vscode": {
   "interpreter": {
    "hash": "b1299a2eddcb40e7fc558369c68bc0d1e7453177307a99c2cb1309587b793d91"
   }
  }
 },
 "nbformat": 4,
 "nbformat_minor": 2
}
