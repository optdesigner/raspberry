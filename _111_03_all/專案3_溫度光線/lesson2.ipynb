{
 "cells": [
  {
   "cell_type": "code",
   "execution_count": 5,
   "metadata": {},
   "outputs": [
    {
     "name": "stdout",
     "output_type": "stream",
     "text": [
      "2022\n",
      "11\n",
      "2\n",
      "13\n",
      "47\n",
      "31\n",
      "民國111年 11月 2日 - 13:47:31\n"
     ]
    }
   ],
   "source": [
    "from datetime import datetime\n",
    "\n",
    "current = datetime.now()\n",
    "current\n",
    "\n",
    "print(current.year)\n",
    "print(current.month)\n",
    "print(current.day)\n",
    "print(current.hour)\n",
    "print(current.minute)\n",
    "print(current.second)\n",
    "\n",
    "print(f'民國{current.year-1911}年 {current.month}月 {current.day}日 - {current.hour}:{current.minute}:{current.second}')\n"
   ]
  },
  {
   "cell_type": "code",
   "execution_count": 6,
   "metadata": {},
   "outputs": [
    {
     "data": {
      "text/plain": [
       "'2022-11-02 13-47-31'"
      ]
     },
     "execution_count": 6,
     "metadata": {},
     "output_type": "execute_result"
    }
   ],
   "source": [
    "#實體方法strftime()\n",
    "current.strftime(\"%Y-%m-%d %H-%M-%S\")"
   ]
  },
  {
   "cell_type": "code",
   "execution_count": 7,
   "metadata": {},
   "outputs": [
    {
     "name": "stdout",
     "output_type": "stream",
     "text": [
      "2020\n",
      "11\n",
      "3\n",
      "14\n",
      "3\n",
      "49\n"
     ]
    }
   ],
   "source": [
    "datetime_str = \"20201103-14:03:49\"\n",
    "datetime_obj  =  datetime.strptime(datetime_str,\"%Y%m%d-%H:%M:%S\")\n",
    "print(datetime_obj.year)\n",
    "print(datetime_obj.month)\n",
    "print(datetime_obj.day)\n",
    "\n",
    "print(datetime_obj.hour)\n",
    "print(datetime_obj.minute)\n",
    "print(datetime_obj.second)"
   ]
  }
 ],
 "metadata": {
  "kernelspec": {
   "display_name": "Python 3.9.2 ('venv03')",
   "language": "python",
   "name": "python3"
  },
  "language_info": {
   "codemirror_mode": {
    "name": "ipython",
    "version": 3
   },
   "file_extension": ".py",
   "mimetype": "text/x-python",
   "name": "python",
   "nbconvert_exporter": "python",
   "pygments_lexer": "ipython3",
   "version": "3.9.2"
  },
  "orig_nbformat": 4,
  "vscode": {
   "interpreter": {
    "hash": "b1299a2eddcb40e7fc558369c68bc0d1e7453177307a99c2cb1309587b793d91"
   }
  }
 },
 "nbformat": 4,
 "nbformat_minor": 2
}
