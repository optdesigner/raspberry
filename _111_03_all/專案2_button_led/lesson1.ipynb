{
 "cells": [
  {
   "cell_type": "code",
   "execution_count": 6,
   "metadata": {},
   "outputs": [
    {
     "ename": "GPIOPinInUse",
     "evalue": "pin 17 is already in use by <gpiozero.PWMLED object on pin GPIO17, active_high=True, is_active=False>",
     "output_type": "error",
     "traceback": [
      "\u001b[0;31m---------------------------------------------------------------------------\u001b[0m",
      "\u001b[0;31mGPIOPinInUse\u001b[0m                              Traceback (most recent call last)",
      "Cell \u001b[0;32mIn [6], line 4\u001b[0m\n\u001b[1;32m      1\u001b[0m \u001b[39mfrom\u001b[39;00m \u001b[39mgpiozero\u001b[39;00m \u001b[39mimport\u001b[39;00m RGBLED\n\u001b[1;32m      2\u001b[0m \u001b[39mfrom\u001b[39;00m \u001b[39mtime\u001b[39;00m \u001b[39mimport\u001b[39;00m sleep\n\u001b[0;32m----> 4\u001b[0m led \u001b[39m=\u001b[39m RGBLED(red\u001b[39m=\u001b[39;49m\u001b[39m17\u001b[39;49m, green\u001b[39m=\u001b[39;49m\u001b[39m27\u001b[39;49m, blue\u001b[39m=\u001b[39;49m\u001b[39m22\u001b[39;49m)\n\u001b[1;32m      6\u001b[0m led\u001b[39m.\u001b[39mred \u001b[39m=\u001b[39m \u001b[39m1\u001b[39m  \u001b[39m# full red\u001b[39;00m\n\u001b[1;32m      7\u001b[0m sleep(\u001b[39m1\u001b[39m)\n",
      "File \u001b[0;32m~/Documents/pythonVenv/venv01/lib/python3.9/site-packages/gpiozero/devices.py:108\u001b[0m, in \u001b[0;36mGPIOMeta.__call__\u001b[0;34m(cls, *args, **kwargs)\u001b[0m\n\u001b[1;32m    105\u001b[0m         \u001b[39mcls\u001b[39m\u001b[39m.\u001b[39m_instances[key] \u001b[39m=\u001b[39m weakref\u001b[39m.\u001b[39mref(\u001b[39mself\u001b[39m)\n\u001b[1;32m    106\u001b[0m \u001b[39melse\u001b[39;00m:\n\u001b[1;32m    107\u001b[0m     \u001b[39m# Construct the instance as normal\u001b[39;00m\n\u001b[0;32m--> 108\u001b[0m     \u001b[39mself\u001b[39m \u001b[39m=\u001b[39m \u001b[39msuper\u001b[39;49m(GPIOMeta, \u001b[39mcls\u001b[39;49m)\u001b[39m.\u001b[39;49m\u001b[39m__call__\u001b[39;49m(\u001b[39m*\u001b[39;49margs, \u001b[39m*\u001b[39;49m\u001b[39m*\u001b[39;49mkwargs)\n\u001b[1;32m    109\u001b[0m \u001b[39m# At this point __new__ and __init__ have all been run. We now fix the\u001b[39;00m\n\u001b[1;32m    110\u001b[0m \u001b[39m# set of attributes on the class by dir'ing the instance and creating a\u001b[39;00m\n\u001b[1;32m    111\u001b[0m \u001b[39m# frozenset of the result called __attrs__ (which is queried by\u001b[39;00m\n\u001b[1;32m    112\u001b[0m \u001b[39m# GPIOBase.__setattr__). An exception is made for SharedMixin devices\u001b[39;00m\n\u001b[1;32m    113\u001b[0m \u001b[39m# which can be constructed multiple times, returning the same instance\u001b[39;00m\n\u001b[1;32m    114\u001b[0m \u001b[39mif\u001b[39;00m \u001b[39mnot\u001b[39;00m \u001b[39missubclass\u001b[39m(\u001b[39mcls\u001b[39m, SharedMixin) \u001b[39mor\u001b[39;00m \u001b[39mself\u001b[39m\u001b[39m.\u001b[39m_refs \u001b[39m==\u001b[39m \u001b[39m1\u001b[39m:\n",
      "File \u001b[0;32m~/Documents/pythonVenv/venv01/lib/python3.9/site-packages/gpiozero/output_devices.py:889\u001b[0m, in \u001b[0;36mRGBLED.__init__\u001b[0;34m(self, red, green, blue, active_high, initial_value, pwm, pin_factory)\u001b[0m\n\u001b[1;32m    887\u001b[0m LEDClass \u001b[39m=\u001b[39m PWMLED \u001b[39mif\u001b[39;00m pwm \u001b[39melse\u001b[39;00m LED\n\u001b[1;32m    888\u001b[0m \u001b[39msuper\u001b[39m(RGBLED, \u001b[39mself\u001b[39m)\u001b[39m.\u001b[39m\u001b[39m__init__\u001b[39m(pin_factory\u001b[39m=\u001b[39mpin_factory)\n\u001b[0;32m--> 889\u001b[0m \u001b[39mself\u001b[39m\u001b[39m.\u001b[39m_leds \u001b[39m=\u001b[39m \u001b[39mtuple\u001b[39;49m(\n\u001b[1;32m    890\u001b[0m     LEDClass(pin, active_high, pin_factory\u001b[39m=\u001b[39;49mpin_factory)\n\u001b[1;32m    891\u001b[0m     \u001b[39mfor\u001b[39;49;00m pin \u001b[39min\u001b[39;49;00m (red, green, blue)\n\u001b[1;32m    892\u001b[0m )\n\u001b[1;32m    893\u001b[0m \u001b[39mself\u001b[39m\u001b[39m.\u001b[39mvalue \u001b[39m=\u001b[39m initial_value\n",
      "File \u001b[0;32m~/Documents/pythonVenv/venv01/lib/python3.9/site-packages/gpiozero/output_devices.py:890\u001b[0m, in \u001b[0;36m<genexpr>\u001b[0;34m(.0)\u001b[0m\n\u001b[1;32m    887\u001b[0m LEDClass \u001b[39m=\u001b[39m PWMLED \u001b[39mif\u001b[39;00m pwm \u001b[39melse\u001b[39;00m LED\n\u001b[1;32m    888\u001b[0m \u001b[39msuper\u001b[39m(RGBLED, \u001b[39mself\u001b[39m)\u001b[39m.\u001b[39m\u001b[39m__init__\u001b[39m(pin_factory\u001b[39m=\u001b[39mpin_factory)\n\u001b[1;32m    889\u001b[0m \u001b[39mself\u001b[39m\u001b[39m.\u001b[39m_leds \u001b[39m=\u001b[39m \u001b[39mtuple\u001b[39m(\n\u001b[0;32m--> 890\u001b[0m     LEDClass(pin, active_high, pin_factory\u001b[39m=\u001b[39;49mpin_factory)\n\u001b[1;32m    891\u001b[0m     \u001b[39mfor\u001b[39;00m pin \u001b[39min\u001b[39;00m (red, green, blue)\n\u001b[1;32m    892\u001b[0m )\n\u001b[1;32m    893\u001b[0m \u001b[39mself\u001b[39m\u001b[39m.\u001b[39mvalue \u001b[39m=\u001b[39m initial_value\n",
      "File \u001b[0;32m~/Documents/pythonVenv/venv01/lib/python3.9/site-packages/gpiozero/devices.py:108\u001b[0m, in \u001b[0;36mGPIOMeta.__call__\u001b[0;34m(cls, *args, **kwargs)\u001b[0m\n\u001b[1;32m    105\u001b[0m         \u001b[39mcls\u001b[39m\u001b[39m.\u001b[39m_instances[key] \u001b[39m=\u001b[39m weakref\u001b[39m.\u001b[39mref(\u001b[39mself\u001b[39m)\n\u001b[1;32m    106\u001b[0m \u001b[39melse\u001b[39;00m:\n\u001b[1;32m    107\u001b[0m     \u001b[39m# Construct the instance as normal\u001b[39;00m\n\u001b[0;32m--> 108\u001b[0m     \u001b[39mself\u001b[39m \u001b[39m=\u001b[39m \u001b[39msuper\u001b[39;49m(GPIOMeta, \u001b[39mcls\u001b[39;49m)\u001b[39m.\u001b[39;49m\u001b[39m__call__\u001b[39;49m(\u001b[39m*\u001b[39;49margs, \u001b[39m*\u001b[39;49m\u001b[39m*\u001b[39;49mkwargs)\n\u001b[1;32m    109\u001b[0m \u001b[39m# At this point __new__ and __init__ have all been run. We now fix the\u001b[39;00m\n\u001b[1;32m    110\u001b[0m \u001b[39m# set of attributes on the class by dir'ing the instance and creating a\u001b[39;00m\n\u001b[1;32m    111\u001b[0m \u001b[39m# frozenset of the result called __attrs__ (which is queried by\u001b[39;00m\n\u001b[1;32m    112\u001b[0m \u001b[39m# GPIOBase.__setattr__). An exception is made for SharedMixin devices\u001b[39;00m\n\u001b[1;32m    113\u001b[0m \u001b[39m# which can be constructed multiple times, returning the same instance\u001b[39;00m\n\u001b[1;32m    114\u001b[0m \u001b[39mif\u001b[39;00m \u001b[39mnot\u001b[39;00m \u001b[39missubclass\u001b[39m(\u001b[39mcls\u001b[39m, SharedMixin) \u001b[39mor\u001b[39;00m \u001b[39mself\u001b[39m\u001b[39m.\u001b[39m_refs \u001b[39m==\u001b[39m \u001b[39m1\u001b[39m:\n",
      "File \u001b[0;32m~/Documents/pythonVenv/venv01/lib/python3.9/site-packages/gpiozero/output_devices.py:403\u001b[0m, in \u001b[0;36mPWMOutputDevice.__init__\u001b[0;34m(self, pin, active_high, initial_value, frequency, pin_factory)\u001b[0m\n\u001b[1;32m    401\u001b[0m \u001b[39mif\u001b[39;00m \u001b[39mnot\u001b[39;00m \u001b[39m0\u001b[39m \u001b[39m<\u001b[39m\u001b[39m=\u001b[39m initial_value \u001b[39m<\u001b[39m\u001b[39m=\u001b[39m \u001b[39m1\u001b[39m:\n\u001b[1;32m    402\u001b[0m     \u001b[39mraise\u001b[39;00m OutputDeviceBadValue(\u001b[39m\"\u001b[39m\u001b[39minitial_value must be between 0 and 1\u001b[39m\u001b[39m\"\u001b[39m)\n\u001b[0;32m--> 403\u001b[0m \u001b[39msuper\u001b[39;49m(PWMOutputDevice, \u001b[39mself\u001b[39;49m)\u001b[39m.\u001b[39;49m\u001b[39m__init__\u001b[39;49m(\n\u001b[1;32m    404\u001b[0m     pin, active_high, initial_value\u001b[39m=\u001b[39;49m\u001b[39mNone\u001b[39;49;00m, pin_factory\u001b[39m=\u001b[39;49mpin_factory\n\u001b[1;32m    405\u001b[0m )\n\u001b[1;32m    406\u001b[0m \u001b[39mtry\u001b[39;00m:\n\u001b[1;32m    407\u001b[0m     \u001b[39m# XXX need a way of setting these together\u001b[39;00m\n\u001b[1;32m    408\u001b[0m     \u001b[39mself\u001b[39m\u001b[39m.\u001b[39mpin\u001b[39m.\u001b[39mfrequency \u001b[39m=\u001b[39m frequency\n",
      "File \u001b[0;32m~/Documents/pythonVenv/venv01/lib/python3.9/site-packages/gpiozero/output_devices.py:83\u001b[0m, in \u001b[0;36mOutputDevice.__init__\u001b[0;34m(self, pin, active_high, initial_value, pin_factory)\u001b[0m\n\u001b[1;32m     80\u001b[0m \u001b[39mdef\u001b[39;00m \u001b[39m__init__\u001b[39m(\n\u001b[1;32m     81\u001b[0m         \u001b[39mself\u001b[39m, pin\u001b[39m=\u001b[39m\u001b[39mNone\u001b[39;00m, active_high\u001b[39m=\u001b[39m\u001b[39mTrue\u001b[39;00m, initial_value\u001b[39m=\u001b[39m\u001b[39mFalse\u001b[39;00m,\n\u001b[1;32m     82\u001b[0m         pin_factory\u001b[39m=\u001b[39m\u001b[39mNone\u001b[39;00m):\n\u001b[0;32m---> 83\u001b[0m     \u001b[39msuper\u001b[39;49m(OutputDevice, \u001b[39mself\u001b[39;49m)\u001b[39m.\u001b[39;49m\u001b[39m__init__\u001b[39;49m(pin, pin_factory\u001b[39m=\u001b[39;49mpin_factory)\n\u001b[1;32m     84\u001b[0m     \u001b[39mself\u001b[39m\u001b[39m.\u001b[39m_lock \u001b[39m=\u001b[39m Lock()\n\u001b[1;32m     85\u001b[0m     \u001b[39mself\u001b[39m\u001b[39m.\u001b[39mactive_high \u001b[39m=\u001b[39m active_high\n",
      "File \u001b[0;32m~/Documents/pythonVenv/venv01/lib/python3.9/site-packages/gpiozero/mixins.py:85\u001b[0m, in \u001b[0;36mSourceMixin.__init__\u001b[0;34m(self, *args, **kwargs)\u001b[0m\n\u001b[1;32m     83\u001b[0m \u001b[39mself\u001b[39m\u001b[39m.\u001b[39m_source_thread \u001b[39m=\u001b[39m \u001b[39mNone\u001b[39;00m\n\u001b[1;32m     84\u001b[0m \u001b[39mself\u001b[39m\u001b[39m.\u001b[39m_source_delay \u001b[39m=\u001b[39m \u001b[39m0.01\u001b[39m\n\u001b[0;32m---> 85\u001b[0m \u001b[39msuper\u001b[39;49m(SourceMixin, \u001b[39mself\u001b[39;49m)\u001b[39m.\u001b[39;49m\u001b[39m__init__\u001b[39;49m(\u001b[39m*\u001b[39;49margs, \u001b[39m*\u001b[39;49m\u001b[39m*\u001b[39;49mkwargs)\n",
      "File \u001b[0;32m~/Documents/pythonVenv/venv01/lib/python3.9/site-packages/gpiozero/devices.py:548\u001b[0m, in \u001b[0;36mGPIODevice.__init__\u001b[0;34m(self, pin, **kwargs)\u001b[0m\n\u001b[1;32m    546\u001b[0m     \u001b[39mraise\u001b[39;00m GPIOPinMissing(\u001b[39m'\u001b[39m\u001b[39mNo pin given\u001b[39m\u001b[39m'\u001b[39m)\n\u001b[1;32m    547\u001b[0m \u001b[39m# Check you can reserve *before* constructing the pin\u001b[39;00m\n\u001b[0;32m--> 548\u001b[0m \u001b[39mself\u001b[39;49m\u001b[39m.\u001b[39;49mpin_factory\u001b[39m.\u001b[39;49mreserve_pins(\u001b[39mself\u001b[39;49m, pin)\n\u001b[1;32m    549\u001b[0m pin \u001b[39m=\u001b[39m \u001b[39mself\u001b[39m\u001b[39m.\u001b[39mpin_factory\u001b[39m.\u001b[39mpin(pin)\n\u001b[1;32m    550\u001b[0m \u001b[39mself\u001b[39m\u001b[39m.\u001b[39m_pin \u001b[39m=\u001b[39m pin\n",
      "File \u001b[0;32m~/Documents/pythonVenv/venv01/lib/python3.9/site-packages/gpiozero/pins/pi.py:91\u001b[0m, in \u001b[0;36mPiFactory.reserve_pins\u001b[0;34m(self, requester, *pins)\u001b[0m\n\u001b[1;32m     90\u001b[0m \u001b[39mdef\u001b[39;00m \u001b[39mreserve_pins\u001b[39m(\u001b[39mself\u001b[39m, requester, \u001b[39m*\u001b[39mpins):\n\u001b[0;32m---> 91\u001b[0m     \u001b[39msuper\u001b[39;49m(PiFactory, \u001b[39mself\u001b[39;49m)\u001b[39m.\u001b[39;49mreserve_pins(\n\u001b[1;32m     92\u001b[0m         requester, \u001b[39m*\u001b[39;49m(\u001b[39mself\u001b[39;49m\u001b[39m.\u001b[39;49mpi_info\u001b[39m.\u001b[39;49mto_gpio(pin) \u001b[39mfor\u001b[39;49;00m pin \u001b[39min\u001b[39;49;00m pins))\n",
      "File \u001b[0;32m~/Documents/pythonVenv/venv01/lib/python3.9/site-packages/gpiozero/pins/__init__.py:77\u001b[0m, in \u001b[0;36mFactory.reserve_pins\u001b[0;34m(self, requester, *pins)\u001b[0m\n\u001b[1;32m     75\u001b[0m     reserver \u001b[39m=\u001b[39m reserver_ref()\n\u001b[1;32m     76\u001b[0m     \u001b[39mif\u001b[39;00m reserver \u001b[39mis\u001b[39;00m \u001b[39mnot\u001b[39;00m \u001b[39mNone\u001b[39;00m \u001b[39mand\u001b[39;00m requester\u001b[39m.\u001b[39m_conflicts_with(reserver):\n\u001b[0;32m---> 77\u001b[0m         \u001b[39mraise\u001b[39;00m GPIOPinInUse(\u001b[39m'\u001b[39m\u001b[39mpin \u001b[39m\u001b[39m%s\u001b[39;00m\u001b[39m is already in use by \u001b[39m\u001b[39m%r\u001b[39;00m\u001b[39m'\u001b[39m \u001b[39m%\u001b[39m\n\u001b[1;32m     78\u001b[0m                            (pin, reserver))\n\u001b[1;32m     79\u001b[0m \u001b[39mself\u001b[39m\u001b[39m.\u001b[39m_reservations[pin]\u001b[39m.\u001b[39mappend(ref(requester))\n",
      "\u001b[0;31mGPIOPinInUse\u001b[0m: pin 17 is already in use by <gpiozero.PWMLED object on pin GPIO17, active_high=True, is_active=False>"
     ]
    }
   ],
   "source": [
    "from gpiozero import RGBLED\n",
    "from time import sleep\n",
    "\n",
    "led = RGBLED(red=17, green=27, blue=22)\n",
    "\n",
    "led.red = 1  # full red\n",
    "sleep(1)\n",
    "led.red = 0.5  # half red\n",
    "sleep(1)\n",
    "\n",
    "led.color = (0, 1, 0)  # full green\n",
    "sleep(1)\n",
    "led.color = (1, 0, 1)  # magenta\n",
    "sleep(1)\n",
    "led.color = (1, 1, 0)  # yellow\n",
    "sleep(1)\n",
    "led.color = (0, 1, 1)  # cyan\n",
    "sleep(1)\n",
    "led.color = (1, 1, 1)  # white\n",
    "sleep(1)\n",
    "\n",
    "led.color = (0, 0, 0)  # off\n",
    "sleep(1)\n",
    "\n",
    "# slowly increase intensity of blue\n",
    "for n in range(100):\n",
    "    led.blue = n/100\n",
    "    sleep(0.1)\n"
   ]
  }
 ],
 "metadata": {
  "kernelspec": {
   "display_name": "Python 3.10.6 ('venv02')",
   "language": "python",
   "name": "python3"
  },
  "language_info": {
   "codemirror_mode": {
    "name": "ipython",
    "version": 3
   },
   "file_extension": ".py",
   "mimetype": "text/x-python",
   "name": "python",
   "nbconvert_exporter": "python",
   "pygments_lexer": "ipython3",
   "version": "3.10.6"
  },
  "orig_nbformat": 4,
  "vscode": {
   "interpreter": {
    "hash": "ec0a055756b83330422d5482d4224b3188331e7f819c0c02c3ab9bd9bd1d6f66"
   }
  }
 },
 "nbformat": 4,
 "nbformat_minor": 2
}
