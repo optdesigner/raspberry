{
 "cells": [
  {
   "cell_type": "code",
   "execution_count": 10,
   "metadata": {},
   "outputs": [],
   "source": [
    "class Person():\n",
    "    def __init__(self,name,age=40,height=180,weight=70):\n",
    "       #attribute\n",
    "       self.name=name\n",
    "       self.age=age\n",
    "       self.height=height\n",
    "       self.weight=weight "
   ]
  },
  {
   "cell_type": "code",
   "execution_count": 13,
   "metadata": {},
   "outputs": [
    {
     "name": "stdout",
     "output_type": "stream",
     "text": [
      "jenny\n",
      "180\n",
      "70\n",
      "40\n"
     ]
    }
   ],
   "source": [
    "p1 = Person(\"jenny\")\n",
    "print(p1.name)\n",
    "print(p1.height)\n",
    "print(p1.weight)\n",
    "print(p1.age)"
   ]
  },
  {
   "cell_type": "code",
   "execution_count": 14,
   "metadata": {},
   "outputs": [
    {
     "name": "stdout",
     "output_type": "stream",
     "text": [
      "jenny\n",
      "180\n",
      "70\n",
      "40\n"
     ]
    }
   ],
   "source": [
    "p2 = Person(\"alice\",age=25,height=175,weight=60)\n",
    "print(p1.name)\n",
    "print(p1.height)\n",
    "print(p1.weight)\n",
    "print(p1.age)"
   ]
  }
 ],
 "metadata": {
  "kernelspec": {
   "display_name": "Python 3.9.2 ('venv01')",
   "language": "python",
   "name": "python3"
  },
  "language_info": {
   "codemirror_mode": {
    "name": "ipython",
    "version": 3
   },
   "file_extension": ".py",
   "mimetype": "text/x-python",
   "name": "python",
   "nbconvert_exporter": "python",
   "pygments_lexer": "ipython3",
   "version": "3.9.2"
  },
  "orig_nbformat": 4,
  "vscode": {
   "interpreter": {
    "hash": "dac6abd5712d71da3aedb6d43013faa4ec7aeed0cd689026e96ac4f71ccf0f19"
   }
  }
 },
 "nbformat": 4,
 "nbformat_minor": 2
}
