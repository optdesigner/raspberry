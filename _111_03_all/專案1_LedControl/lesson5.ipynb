{
 "cells": [
  {
   "cell_type": "code",
   "execution_count": 10,
   "metadata": {},
   "outputs": [],
   "source": [
    "class Person():\n",
    "    def __init__(self,name,age=40,height=180,weight=70):\n",
    "       #attribute\n",
    "       self.name=name\n",
    "       self.age=age\n",
    "       self.height=height\n",
    "       self.weight=weight "
   ]
  },
  {
   "cell_type": "code",
   "execution_count": 18,
   "metadata": {},
   "outputs": [
    {
     "name": "stdout",
     "output_type": "stream",
     "text": [
      "jenny\n",
      "180\n",
      "70\n",
      "40\n"
     ]
    },
    {
     "data": {
      "text/plain": [
       "{'name': 'jenny', 'age': 40, 'height': 180, 'weight': 70}"
      ]
     },
     "execution_count": 18,
     "metadata": {},
     "output_type": "execute_result"
    }
   ],
   "source": [
    "p1 = Person(\"jenny\")\n",
    "p1.__dict__"
   ]
  },
  {
   "cell_type": "code",
   "execution_count": 19,
   "metadata": {},
   "outputs": [
    {
     "data": {
      "text/plain": [
       "{'name': 'alice', 'age': 25, 'height': 175, 'weight': 60}"
      ]
     },
     "execution_count": 19,
     "metadata": {},
     "output_type": "execute_result"
    }
   ],
   "source": [
    "p2 = Person(\"alice\",age=25,height=175,weight=60)\n",
    "p2.__dict__"
   ]
  },
  {
   "cell_type": "code",
   "execution_count": 20,
   "metadata": {},
   "outputs": [
    {
     "data": {
      "text/plain": [
       "{'name': 'john', 'age': 30, 'height': 169, 'weight': 59}"
      ]
     },
     "execution_count": 20,
     "metadata": {},
     "output_type": "execute_result"
    }
   ],
   "source": [
    "kwargs = {\"age\":30, \"height\":169, \"weight\":59}\n",
    "p3 = Person(\"john\",**kwargs) #解開dictionary成為引數名稱=value,引數名稱=value,引數名稱=value\n",
    "p3.__dict__"
   ]
  }
 ],
 "metadata": {
  "kernelspec": {
   "display_name": "Python 3.9.2 ('venv01')",
   "language": "python",
   "name": "python3"
  },
  "language_info": {
   "codemirror_mode": {
    "name": "ipython",
    "version": 3
   },
   "file_extension": ".py",
   "mimetype": "text/x-python",
   "name": "python",
   "nbconvert_exporter": "python",
   "pygments_lexer": "ipython3",
   "version": "3.9.2"
  },
  "orig_nbformat": 4,
  "vscode": {
   "interpreter": {
    "hash": "dac6abd5712d71da3aedb6d43013faa4ec7aeed0cd689026e96ac4f71ccf0f19"
   }
  }
 },
 "nbformat": 4,
 "nbformat_minor": 2
}
