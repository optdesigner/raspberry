{
 "cells": [
  {
   "cell_type": "code",
   "execution_count": 10,
   "metadata": {},
   "outputs": [],
   "source": [
    "class Person():\n",
    "    def __init__(self,name,age=40,height=180,weight=70):\n",
    "       #attribute\n",
    "       self.name=name\n",
    "       self.age=age\n",
    "       self.height=height\n",
    "       self.weight=weight "
   ]
  },
  {
   "cell_type": "code",
   "execution_count": 18,
   "metadata": {},
   "outputs": [
    {
     "name": "stdout",
     "output_type": "stream",
     "text": [
      "jenny\n",
      "180\n",
      "70\n",
      "40\n"
     ]
    },
    {
     "data": {
      "text/plain": [
       "{'name': 'jenny', 'age': 40, 'height': 180, 'weight': 70}"
      ]
     },
     "execution_count": 18,
     "metadata": {},
     "output_type": "execute_result"
    }
   ],
   "source": [
    "p1 = Person(\"jenny\")\n",
    "p1.__dict__"
   ]
  },
  {
   "cell_type": "code",
   "execution_count": 19,
   "metadata": {},
   "outputs": [
    {
     "data": {
      "text/plain": [
       "{'name': 'alice', 'age': 25, 'height': 175, 'weight': 60}"
      ]
     },
     "execution_count": 19,
     "metadata": {},
     "output_type": "execute_result"
    }
   ],
   "source": [
    "p2 = Person(\"alice\",age=25,height=175,weight=60)\n",
    "p2.__dict__"
   ]
  },
  {
   "cell_type": "code",
   "execution_count": 25,
   "metadata": {},
   "outputs": [
    {
     "data": {
      "text/plain": [
       "{'name': 'john', 'age': 30, 'height': 169, 'weight': 59}"
      ]
     },
     "execution_count": 25,
     "metadata": {},
     "output_type": "execute_result"
    }
   ],
   "source": [
    "kwargs = {\"age\":30, \"height\":169, \"weight\":59}\n",
    "p3 = Person(\"john\",**kwargs) #解開dictionary成為引數名稱=value,引數名稱=value,引數名稱=value\n",
    "p3.__dict__"
   ]
  },
  {
   "cell_type": "code",
   "execution_count": 28,
   "metadata": {},
   "outputs": [
    {
     "name": "stdout",
     "output_type": "stream",
     "text": [
      "{'age': 50, 'height': 179, 'weight': 47}\n"
     ]
    },
    {
     "data": {
      "text/plain": [
       "{'name': 'robert', 'age': 50, 'height': 179, 'weight': 47}"
      ]
     },
     "execution_count": 28,
     "metadata": {},
     "output_type": "execute_result"
    }
   ],
   "source": [
    "#繼承\n",
    "class Student(Person):\n",
    "    def __init__(self,name,**kwargs):\n",
    "        print(kwargs)\n",
    "        super().__init__(name,**kwargs)\n",
    "\n",
    "s1 = Student(\"robert\",age=50,height=179,weight=47)\n",
    "s1.__dict__\n"
   ]
  },
  {
   "cell_type": "code",
   "execution_count": 39,
   "metadata": {},
   "outputs": [
    {
     "name": "stdout",
     "output_type": "stream",
     "text": [
      "{'age': 50, 'height': 179, 'weight': 47}\n"
     ]
    },
    {
     "data": {
      "text/plain": [
       "{'name': 'robert',\n",
       " 'age': 50,\n",
       " 'height': 179,\n",
       " 'weight': 47,\n",
       " '_Student__id': '11111'}"
      ]
     },
     "execution_count": 39,
     "metadata": {},
     "output_type": "execute_result"
    }
   ],
   "source": [
    "#增加property getter 和 setter\n",
    "class Student(Person):\n",
    "    def __init__(self,name,id=\"11111\",**kwargs):\n",
    "        print(kwargs)\n",
    "        super().__init__(name,**kwargs)\n",
    "        self.__id = id #__id是attribute,__符號代表不可以讀和寫\n",
    "    \n",
    "    #定義id,可以讀\n",
    "    @property\n",
    "    def id(self):\n",
    "        return self.__id;\n",
    "    \n",
    "    @id.setter\n",
    "    def id(self,num):\n",
    "        if len(num) == 5:\n",
    "            self.__id = num;\n",
    "        else:\n",
    "            self.__id = \"11111\"\n",
    "        \n",
    "\n",
    "s1 = Student(\"robert\",age=50,height=179,weight=47)\n",
    "s1.id\n",
    "s1.__dict__"
   ]
  }
 ],
 "metadata": {
  "kernelspec": {
   "display_name": "Python 3.9.2 ('venv01')",
   "language": "python",
   "name": "python3"
  },
  "language_info": {
   "codemirror_mode": {
    "name": "ipython",
    "version": 3
   },
   "file_extension": ".py",
   "mimetype": "text/x-python",
   "name": "python",
   "nbconvert_exporter": "python",
   "pygments_lexer": "ipython3",
   "version": "3.9.2"
  },
  "orig_nbformat": 4,
  "vscode": {
   "interpreter": {
    "hash": "dac6abd5712d71da3aedb6d43013faa4ec7aeed0cd689026e96ac4f71ccf0f19"
   }
  }
 },
 "nbformat": 4,
 "nbformat_minor": 2
}
