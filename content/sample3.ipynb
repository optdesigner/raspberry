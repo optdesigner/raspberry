{
 "cells": [
  {
   "cell_type": "code",
   "execution_count": 3,
   "metadata": {},
   "outputs": [
    {
     "name": "stdout",
     "output_type": "stream",
     "text": [
      "input your age?17\n",
      "12< age <= 18\n"
     ]
    }
   ],
   "source": [
    "age = int(input(\"input your age?\"))\n",
    "if age > 18:\n",
    "    print(\"up 18\")\n",
    "elif age >= 12:\n",
    "    print(\"12< age <= 18\")\n",
    "else:\n",
    "    print('age < 12')"
   ]
  },
  {
   "cell_type": "code",
   "execution_count": 4,
   "metadata": {},
   "outputs": [
    {
     "name": "stdout",
     "output_type": "stream",
     "text": [
      "0\n",
      "1\n",
      "2\n",
      "3\n",
      "4\n"
     ]
    }
   ],
   "source": [
    "for i in range(5):\n",
    "    print(i)"
   ]
  },
  {
   "cell_type": "code",
   "execution_count": 5,
   "metadata": {},
   "outputs": [
    {
     "name": "stdout",
     "output_type": "stream",
     "text": [
      "1\n",
      "2\n",
      "3\n",
      "4\n"
     ]
    }
   ],
   "source": [
    "for i in range(1,5):\n",
    "    print(i)"
   ]
  },
  {
   "cell_type": "code",
   "execution_count": 6,
   "metadata": {},
   "outputs": [
    {
     "name": "stdout",
     "output_type": "stream",
     "text": [
      "1\n",
      "3\n"
     ]
    }
   ],
   "source": [
    "for i in range(1,5,2):\n",
    "    print(i)"
   ]
  },
  {
   "cell_type": "code",
   "execution_count": 7,
   "metadata": {},
   "outputs": [
    {
     "name": "stdout",
     "output_type": "stream",
     "text": [
      "please input int,if press 'q' exit5\n",
      "please input int,if press 'q' exit6\n",
      "value ** 2=36\n",
      "please input int,if press 'q' exit3\n",
      "please input int,if press 'q' exit2\n",
      "value ** 2=4\n",
      "please input int,if press 'q' exitq\n"
     ]
    }
   ],
   "source": [
    "while(True):\n",
    "    value = input(\"please input int,if press 'q' exit\")\n",
    "    if value == 'q':\n",
    "        break\n",
    "    elif int(value) % 2 == 1:\n",
    "        continue\n",
    "    else:\n",
    "        print(\"value ** 2=%d\" % int(value) ** 2 )"
   ]
  },
  {
   "cell_type": "code",
   "execution_count": 9,
   "metadata": {},
   "outputs": [
    {
     "name": "stdout",
     "output_type": "stream",
     "text": [
      "robert\n",
      "78\n",
      "90\n",
      "57\n"
     ]
    }
   ],
   "source": [
    "values = (\"robert\", 78, 90, 57)\n",
    "name, math, chinese, english = values\n",
    "print(name)\n",
    "print(math)\n",
    "print(chinese)\n",
    "print(english)"
   ]
  },
  {
   "cell_type": "code",
   "execution_count": null,
   "metadata": {},
   "outputs": [],
   "source": []
  }
 ],
 "metadata": {
  "kernelspec": {
   "display_name": "Python 3",
   "language": "python",
   "name": "python3"
  },
  "language_info": {
   "codemirror_mode": {
    "name": "ipython",
    "version": 3
   },
   "file_extension": ".py",
   "mimetype": "text/x-python",
   "name": "python",
   "nbconvert_exporter": "python",
   "pygments_lexer": "ipython3",
   "version": "3.6.6"
  }
 },
 "nbformat": 4,
 "nbformat_minor": 2
}
