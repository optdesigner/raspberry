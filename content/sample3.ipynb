{
 "cells": [
  {
   "cell_type": "code",
   "execution_count": 3,
   "metadata": {},
   "outputs": [
    {
     "name": "stdout",
     "output_type": "stream",
     "text": [
      "input your age?17\n",
      "12< age <= 18\n"
     ]
    }
   ],
   "source": [
    "age = int(input(\"input your age?\"))\n",
    "if age > 18:\n",
    "    print(\"up 18\")\n",
    "elif age >= 12:\n",
    "    print(\"12< age <= 18\")\n",
    "else:\n",
    "    print('age < 12')"
   ]
  },
  {
   "cell_type": "code",
   "execution_count": 4,
   "metadata": {},
   "outputs": [
    {
     "name": "stdout",
     "output_type": "stream",
     "text": [
      "0\n",
      "1\n",
      "2\n",
      "3\n",
      "4\n"
     ]
    }
   ],
   "source": [
    "for i in range(5):\n",
    "    print(i)"
   ]
  },
  {
   "cell_type": "code",
   "execution_count": 5,
   "metadata": {},
   "outputs": [
    {
     "name": "stdout",
     "output_type": "stream",
     "text": [
      "1\n",
      "2\n",
      "3\n",
      "4\n"
     ]
    }
   ],
   "source": [
    "for i in range(1,5):\n",
    "    print(i)"
   ]
  },
  {
   "cell_type": "code",
   "execution_count": 6,
   "metadata": {},
   "outputs": [
    {
     "name": "stdout",
     "output_type": "stream",
     "text": [
      "1\n",
      "3\n"
     ]
    }
   ],
   "source": [
    "for i in range(1,5,2):\n",
    "    print(i)"
   ]
  },
  {
   "cell_type": "code",
   "execution_count": 7,
   "metadata": {},
   "outputs": [
    {
     "name": "stdout",
     "output_type": "stream",
     "text": [
      "please input int,if press 'q' exit5\n",
      "please input int,if press 'q' exit6\n",
      "value ** 2=36\n",
      "please input int,if press 'q' exit3\n",
      "please input int,if press 'q' exit2\n",
      "value ** 2=4\n",
      "please input int,if press 'q' exitq\n"
     ]
    }
   ],
   "source": [
    "while(True):\n",
    "    value = input(\"please input int,if press 'q' exit\")\n",
    "    if value == 'q':\n",
    "        break\n",
    "    elif int(value) % 2 == 1:\n",
    "        continue\n",
    "    else:\n",
    "        print(\"value ** 2=%d\" % int(value) ** 2 )"
   ]
  },
  {
   "cell_type": "code",
   "execution_count": 9,
   "metadata": {},
   "outputs": [
    {
     "name": "stdout",
     "output_type": "stream",
     "text": [
      "robert\n",
      "78\n",
      "90\n",
      "57\n"
     ]
    }
   ],
   "source": [
    "values = (\"robert\", 78, 90, 57)\n",
    "name, math, chinese, english = values\n",
    "print(name)\n",
    "print(math)\n",
    "print(chinese)\n",
    "print(english)"
   ]
  },
  {
   "cell_type": "code",
   "execution_count": 11,
   "metadata": {},
   "outputs": [
    {
     "name": "stdout",
     "output_type": "stream",
     "text": [
      "['星期一', '星期二', '星期三', '星期四', '星期五', '星期六', '星期日']\n",
      "<class 'list'>\n"
     ]
    }
   ],
   "source": [
    "weekdays = ['星期一', '星期二', '星期三', '星期四', '星期五', '星期六', '星期日'] \n",
    "print(weekdays)\n",
    "print(type(weekdays))"
   ]
  },
  {
   "cell_type": "code",
   "execution_count": 13,
   "metadata": {},
   "outputs": [
    {
     "name": "stdout",
     "output_type": "stream",
     "text": [
      "星期一\n",
      "星期二\n",
      "星期三\n",
      "星期四\n",
      "星期五\n",
      "星期六\n",
      "星期日\n"
     ]
    }
   ],
   "source": [
    "for day in weekdays:\n",
    "    print(day)"
   ]
  },
  {
   "cell_type": "code",
   "execution_count": 15,
   "metadata": {},
   "outputs": [
    {
     "name": "stdout",
     "output_type": "stream",
     "text": [
      "星期一\n",
      "星期二\n",
      "星期三\n",
      "星期四\n",
      "星期五\n",
      "星期六\n",
      "星期日\n"
     ]
    }
   ],
   "source": [
    "for i in range(7):\n",
    "    print(weekdays[i])"
   ]
  },
  {
   "cell_type": "code",
   "execution_count": 16,
   "metadata": {},
   "outputs": [
    {
     "name": "stdout",
     "output_type": "stream",
     "text": [
      "tw\n",
      "jp\n",
      "hk\n"
     ]
    }
   ],
   "source": [
    "codes = {\n",
    "\"tw\": \"Taiwan\",\n",
    "\"jp\": \"japan\",\n",
    "\"hk\": \"Hong Kong\"\n",
    " } \n",
    "\n",
    "for item in codes:\n",
    "    print(item)"
   ]
  },
  {
   "cell_type": "code",
   "execution_count": 18,
   "metadata": {},
   "outputs": [
    {
     "name": "stdout",
     "output_type": "stream",
     "text": [
      "tw Taiwan\n",
      "jp japan\n",
      "hk Hong Kong\n"
     ]
    }
   ],
   "source": [
    "for key,value in codes.items():\n",
    "    print(key,value)"
   ]
  },
  {
   "cell_type": "code",
   "execution_count": 19,
   "metadata": {},
   "outputs": [
    {
     "name": "stdout",
     "output_type": "stream",
     "text": [
      "{1, 3, 5, 7, 9}\n"
     ]
    }
   ],
   "source": [
    "odd = {1, 3, 5, 5, 7, 9}\n",
    "print(odd)"
   ]
  },
  {
   "cell_type": "code",
   "execution_count": 20,
   "metadata": {},
   "outputs": [
    {
     "name": "stdout",
     "output_type": "stream",
     "text": [
      "1\n",
      "3\n",
      "5\n",
      "7\n",
      "9\n"
     ]
    }
   ],
   "source": [
    "for i in list(odd):\n",
    "    print(i)"
   ]
  },
  {
   "cell_type": "code",
   "execution_count": 34,
   "metadata": {},
   "outputs": [
    {
     "name": "stdout",
     "output_type": "stream",
     "text": [
      "{35, 39, 40, 41, 43, 48, 16}\n"
     ]
    }
   ],
   "source": [
    "from random import randint\n",
    "lot = set()\n",
    "while(len(lot) < 7):\n",
    "    lot.add(randint(1,49))\n",
    "    \n",
    "print(lot)"
   ]
  },
  {
   "cell_type": "code",
   "execution_count": 37,
   "metadata": {},
   "outputs": [
    {
     "name": "stdout",
     "output_type": "stream",
     "text": [
      "[{'name': 'stu1', 'id': 'A001', 'math': 91, 'english': 80, 'chinese': 50}, {'name': 'stu2', 'id': 'A002', 'math': 91, 'english': 79, 'chinese': 96}, {'name': 'stu3', 'id': 'A003', 'math': 57, 'english': 97, 'chinese': 53}, {'name': 'stu4', 'id': 'A004', 'math': 74, 'english': 83, 'chinese': 53}, {'name': 'stu5', 'id': 'A005', 'math': 94, 'english': 71, 'chinese': 67}, {'name': 'stu6', 'id': 'A006', 'math': 65, 'english': 87, 'chinese': 87}, {'name': 'stu7', 'id': 'A007', 'math': 81, 'english': 71, 'chinese': 68}, {'name': 'stu8', 'id': 'A008', 'math': 75, 'english': 53, 'chinese': 56}, {'name': 'stu9', 'id': 'A009', 'math': 88, 'english': 88, 'chinese': 89}, {'name': 'stu10', 'id': 'A0010', 'math': 57, 'english': 55, 'chinese': 69}, {'name': 'stu11', 'id': 'A0011', 'math': 72, 'english': 55, 'chinese': 54}, {'name': 'stu12', 'id': 'A0012', 'math': 62, 'english': 78, 'chinese': 83}, {'name': 'stu13', 'id': 'A0013', 'math': 80, 'english': 74, 'chinese': 89}, {'name': 'stu14', 'id': 'A0014', 'math': 65, 'english': 76, 'chinese': 84}, {'name': 'stu15', 'id': 'A0015', 'math': 82, 'english': 80, 'chinese': 63}, {'name': 'stu16', 'id': 'A0016', 'math': 76, 'english': 52, 'chinese': 51}, {'name': 'stu17', 'id': 'A0017', 'math': 70, 'english': 72, 'chinese': 57}, {'name': 'stu18', 'id': 'A0018', 'math': 60, 'english': 54, 'chinese': 70}, {'name': 'stu19', 'id': 'A0019', 'math': 71, 'english': 60, 'chinese': 60}, {'name': 'stu20', 'id': 'A0020', 'math': 76, 'english': 80, 'chinese': 51}, {'name': 'stu21', 'id': 'A0021', 'math': 90, 'english': 73, 'chinese': 84}, {'name': 'stu22', 'id': 'A0022', 'math': 86, 'english': 94, 'chinese': 75}, {'name': 'stu23', 'id': 'A0023', 'math': 84, 'english': 50, 'chinese': 68}, {'name': 'stu24', 'id': 'A0024', 'math': 92, 'english': 62, 'chinese': 73}, {'name': 'stu25', 'id': 'A0025', 'math': 67, 'english': 70, 'chinese': 96}, {'name': 'stu26', 'id': 'A0026', 'math': 67, 'english': 52, 'chinese': 61}, {'name': 'stu27', 'id': 'A0027', 'math': 77, 'english': 72, 'chinese': 79}, {'name': 'stu28', 'id': 'A0028', 'math': 69, 'english': 52, 'chinese': 89}, {'name': 'stu29', 'id': 'A0029', 'math': 51, 'english': 93, 'chinese': 61}, {'name': 'stu30', 'id': 'A0030', 'math': 62, 'english': 76, 'chinese': 57}, {'name': 'stu31', 'id': 'A0031', 'math': 66, 'english': 70, 'chinese': 91}, {'name': 'stu32', 'id': 'A0032', 'math': 74, 'english': 73, 'chinese': 72}, {'name': 'stu33', 'id': 'A0033', 'math': 78, 'english': 60, 'chinese': 62}, {'name': 'stu34', 'id': 'A0034', 'math': 51, 'english': 57, 'chinese': 67}, {'name': 'stu35', 'id': 'A0035', 'math': 96, 'english': 91, 'chinese': 92}, {'name': 'stu36', 'id': 'A0036', 'math': 52, 'english': 80, 'chinese': 51}, {'name': 'stu37', 'id': 'A0037', 'math': 69, 'english': 78, 'chinese': 97}, {'name': 'stu38', 'id': 'A0038', 'math': 92, 'english': 58, 'chinese': 80}, {'name': 'stu39', 'id': 'A0039', 'math': 87, 'english': 100, 'chinese': 76}, {'name': 'stu40', 'id': 'A0040', 'math': 82, 'english': 59, 'chinese': 53}, {'name': 'stu41', 'id': 'A0041', 'math': 95, 'english': 87, 'chinese': 100}, {'name': 'stu42', 'id': 'A0042', 'math': 81, 'english': 94, 'chinese': 63}, {'name': 'stu43', 'id': 'A0043', 'math': 86, 'english': 88, 'chinese': 62}, {'name': 'stu44', 'id': 'A0044', 'math': 95, 'english': 63, 'chinese': 84}, {'name': 'stu45', 'id': 'A0045', 'math': 50, 'english': 57, 'chinese': 99}, {'name': 'stu46', 'id': 'A0046', 'math': 65, 'english': 69, 'chinese': 53}, {'name': 'stu47', 'id': 'A0047', 'math': 50, 'english': 68, 'chinese': 57}, {'name': 'stu48', 'id': 'A0048', 'math': 77, 'english': 98, 'chinese': 50}, {'name': 'stu49', 'id': 'A0049', 'math': 57, 'english': 68, 'chinese': 95}, {'name': 'stu50', 'id': 'A0050', 'math': 69, 'english': 98, 'chinese': 100}]\n"
     ]
    }
   ],
   "source": [
    "from random import randint\n",
    "\n",
    "students  = list()\n",
    "for i in range(50):\n",
    "    scores = {'name':'stu' + str(i+1), 'id':'A00' + str(i+1), 'math': randint(50,100) , 'english':randint(50,100), 'chinese':randint(50,100)}\n",
    "    students.append(scores)\n",
    "print(students)\n",
    "\n",
    "for item in st"
   ]
  },
  {
   "cell_type": "code",
   "execution_count": null,
   "metadata": {},
   "outputs": [],
   "source": []
  }
 ],
 "metadata": {
  "kernelspec": {
   "display_name": "Python 3",
   "language": "python",
   "name": "python3"
  },
  "language_info": {
   "codemirror_mode": {
    "name": "ipython",
    "version": 3
   },
   "file_extension": ".py",
   "mimetype": "text/x-python",
   "name": "python",
   "nbconvert_exporter": "python",
   "pygments_lexer": "ipython3",
   "version": "3.6.6"
  }
 },
 "nbformat": 4,
 "nbformat_minor": 2
}
