{
 "cells": [
  {
   "cell_type": "code",
   "execution_count": 2,
   "metadata": {},
   "outputs": [
    {
     "name": "stdout",
     "output_type": "stream",
     "text": [
      "學生的分數是 59\n",
      "不及格\n"
     ]
    }
   ],
   "source": [
    "score = eval(input(\"請輸學生分數:\"))\n",
    "\n",
    "if score >= 60:\n",
    "    print(\"學生的分數是\",score)\n",
    "    print(\"及格\")\n",
    "else:\n",
    "    print(\"學生的分數是\",score)\n",
    "    print(\"不及格\")"
   ]
  },
  {
   "cell_type": "code",
   "execution_count": 3,
   "metadata": {},
   "outputs": [
    {
     "name": "stdout",
     "output_type": "stream",
     "text": [
      "乙\n"
     ]
    }
   ],
   "source": [
    "'''\n",
    "• 90(含)~100分為「優」\n",
    "• 80(含)~89分為「甲」\n",
    "• 70(含)~79分為「乙」\n",
    "• 60(含)~69分為「丙」\n",
    "• 0(含)~59分為「丁」\n",
    "'''\n",
    "score = eval(input(\"請輸學生分數:\"))\n",
    "\n",
    "if score >= 90:\n",
    "    print(\"優\")\n",
    "elif score >= 80:\n",
    "    print(\"甲\")\n",
    "elif score >= 70:\n",
    "    print(\"乙\")\n",
    "elif score >= 60:\n",
    "    print(\"丙\")\n",
    "else:\n",
    "    print(\"丁\")\n",
    "\n",
    "\n"
   ]
  }
 ],
 "metadata": {
  "interpreter": {
   "hash": "d7022dddf21d42dde7948cdc09ac263eb28788cf8538f118463ed9cc093dc120"
  },
  "kernelspec": {
   "display_name": "Python 3.6.6 ('venv02')",
   "language": "python",
   "name": "python3"
  },
  "language_info": {
   "codemirror_mode": {
    "name": "ipython",
    "version": 3
   },
   "file_extension": ".py",
   "mimetype": "text/x-python",
   "name": "python",
   "nbconvert_exporter": "python",
   "pygments_lexer": "ipython3",
   "version": "3.6.6"
  },
  "orig_nbformat": 4
 },
 "nbformat": 4,
 "nbformat_minor": 2
}
