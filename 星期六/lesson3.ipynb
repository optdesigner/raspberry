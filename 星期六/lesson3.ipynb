{
 "cells": [
  {
   "cell_type": "code",
   "execution_count": 1,
   "metadata": {},
   "outputs": [
    {
     "data": {
      "text/plain": [
       "'cat'"
      ]
     },
     "execution_count": 1,
     "metadata": {},
     "output_type": "execute_result"
    }
   ],
   "source": [
    "tuple1 = (\"cat\", \"dog\")\n",
    "tuple1[0] #subscript"
   ]
  },
  {
   "cell_type": "code",
   "execution_count": 3,
   "metadata": {},
   "outputs": [
    {
     "name": "stdout",
     "output_type": "stream",
     "text": [
      "cat\n",
      "dog\n"
     ]
    }
   ],
   "source": [
    "#折解tuple至變數\n",
    "(animal1,animal2) = tuple1\n",
    "print(animal1)\n",
    "print(animal2)"
   ]
  },
  {
   "cell_type": "code",
   "execution_count": 4,
   "metadata": {},
   "outputs": [
    {
     "name": "stdout",
     "output_type": "stream",
     "text": [
      "cat\n",
      "dog\n"
     ]
    }
   ],
   "source": [
    "#折解tuple至變數\n",
    "animal1,animal2 = tuple1\n",
    "print(animal1)\n",
    "print(animal2)"
   ]
  },
  {
   "cell_type": "code",
   "execution_count": 10,
   "metadata": {},
   "outputs": [
    {
     "name": "stdout",
     "output_type": "stream",
     "text": [
      "<class 'NoneType'>\n",
      "我是None\n"
     ]
    }
   ],
   "source": [
    "#沒有東西的變數\n",
    "var1 = None\n",
    "print(var1.__class__)\n",
    "\n",
    "#如何檢查內容是None\n",
    "#is\n",
    "# is not \n",
    "\n",
    "if var1 is None:\n",
    "    print(\"我是None\")\n",
    "\n",
    "if var1 is not None:\n",
    "    print(\"我不是None\")"
   ]
  },
  {
   "cell_type": "code",
   "execution_count": 9,
   "metadata": {},
   "outputs": [
    {
     "name": "stdout",
     "output_type": "stream",
     "text": [
      "[]\n",
      "[]\n"
     ]
    }
   ],
   "source": [
    "\n",
    "#建立空的list\n",
    "empty_list = []\n",
    "print(empty_list)\n",
    "\n",
    "another_empty_list = list()\n",
    "print(another_empty_list)"
   ]
  },
  {
   "cell_type": "code",
   "execution_count": 13,
   "metadata": {},
   "outputs": [
    {
     "name": "stdout",
     "output_type": "stream",
     "text": [
      "星期一\n",
      "星期二\n",
      "星期三\n",
      "星期四\n",
      "星期五\n",
      "星期六\n",
      "星期日\n",
      "1\n",
      "2\n",
      "3\n",
      "4\n",
      "5\n",
      "6\n"
     ]
    }
   ],
   "source": [
    "#建立list\n",
    "weekdays = ['星期一', '星期二', '星期三', '星期四', '星期五', '星期六', '星期日', 1, 2, 3, 4, 5, 6] \n",
    "len(weekdays)\n",
    "for i in range(len(weekdays)):\n",
    "    print(weekdays[i])"
   ]
  }
 ],
 "metadata": {
  "interpreter": {
   "hash": "d7022dddf21d42dde7948cdc09ac263eb28788cf8538f118463ed9cc093dc120"
  },
  "kernelspec": {
   "display_name": "Python 3.6.6 ('venv02')",
   "language": "python",
   "name": "python3"
  },
  "language_info": {
   "codemirror_mode": {
    "name": "ipython",
    "version": 3
   },
   "file_extension": ".py",
   "mimetype": "text/x-python",
   "name": "python",
   "nbconvert_exporter": "python",
   "pygments_lexer": "ipython3",
   "version": "3.6.6"
  },
  "orig_nbformat": 4
 },
 "nbformat": 4,
 "nbformat_minor": 2
}
