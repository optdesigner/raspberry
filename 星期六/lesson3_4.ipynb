{
 "cells": [
  {
   "cell_type": "code",
   "execution_count": 20,
   "metadata": {},
   "outputs": [],
   "source": [
    "class Person:\n",
    "    def __init__(self,name,weight,height):\n",
    "        print(\"執行初始化\")\n",
    "        self.name = name\n",
    "        self.weight = weight\n",
    "        self.height = height\n",
    "    \n",
    "    #實體的方法\n",
    "    def bmi(self):\n",
    "        return self.weight / (self.height / 100) ** 2\n",
    "\n",
    "class Student(Person):\n",
    "    def __init__(self,name,weight,height,chinese,english,math):\n",
    "        super().__init__(name,weight,height)\n",
    "        self.chinese= chinese\n",
    "        self.english = english\n",
    "        self.math = math\n",
    "\n",
    "    def sum(self):\n",
    "        return self.chinese + self.english + self.math\n",
    "\n",
    "    def average(self):\n",
    "        return self.sum() / 3"
   ]
  },
  {
   "cell_type": "code",
   "execution_count": 5,
   "metadata": {},
   "outputs": [
    {
     "name": "stdout",
     "output_type": "stream",
     "text": [
      "執行初始化\n",
      "170\n",
      "70\n",
      "robert\n",
      "24.221453287197235\n"
     ]
    }
   ],
   "source": [
    "p1 = Person(\"robert\",70,170)\n",
    "print(p1.height)\n",
    "print(p1.weight)\n",
    "print(p1.name)\n",
    "print(p1.bmi())"
   ]
  },
  {
   "cell_type": "code",
   "execution_count": 6,
   "metadata": {},
   "outputs": [
    {
     "name": "stdout",
     "output_type": "stream",
     "text": [
      "執行初始化\n",
      "170\n",
      "90\n",
      "john\n",
      "31.14186851211073\n"
     ]
    }
   ],
   "source": [
    "p2 = Person(\"john\",90,170)\n",
    "print(p2.height)\n",
    "print(p2.weight)\n",
    "print(p2.name)\n",
    "print(p2.bmi())"
   ]
  },
  {
   "cell_type": "code",
   "execution_count": 21,
   "metadata": {},
   "outputs": [
    {
     "name": "stdout",
     "output_type": "stream",
     "text": [
      "執行初始化\n"
     ]
    },
    {
     "data": {
      "text/plain": [
       "78.0"
      ]
     },
     "execution_count": 21,
     "metadata": {},
     "output_type": "execute_result"
    }
   ],
   "source": [
    "s1 = Student(\"jenny\",50,160,76,98,60)\n",
    "s1.bmi()\n",
    "s1.sum()\n",
    "s1.average()"
   ]
  }
 ],
 "metadata": {
  "interpreter": {
   "hash": "d7022dddf21d42dde7948cdc09ac263eb28788cf8538f118463ed9cc093dc120"
  },
  "kernelspec": {
   "display_name": "Python 3.6.6 ('venv02')",
   "language": "python",
   "name": "python3"
  },
  "language_info": {
   "codemirror_mode": {
    "name": "ipython",
    "version": 3
   },
   "file_extension": ".py",
   "mimetype": "text/x-python",
   "name": "python",
   "nbconvert_exporter": "python",
   "pygments_lexer": "ipython3",
   "version": "3.6.6"
  },
  "orig_nbformat": 4
 },
 "nbformat": 4,
 "nbformat_minor": 2
}
