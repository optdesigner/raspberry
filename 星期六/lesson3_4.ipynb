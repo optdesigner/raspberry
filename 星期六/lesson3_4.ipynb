{
 "cells": [
  {
   "cell_type": "code",
   "execution_count": 11,
   "metadata": {},
   "outputs": [],
   "source": [
    "class Person:\n",
    "    def __init__(self,name,weight,height):\n",
    "        print(\"執行初始化\")\n",
    "        self.name = name\n",
    "        self.weight = weight\n",
    "        self.height = height"
   ]
  },
  {
   "cell_type": "code",
   "execution_count": 12,
   "metadata": {},
   "outputs": [
    {
     "name": "stdout",
     "output_type": "stream",
     "text": [
      "執行初始化\n",
      "78\n",
      "170\n",
      "robert\n"
     ]
    }
   ],
   "source": [
    "p1 = Person(\"robert\",170,78)\n",
    "print(p1.height)\n",
    "print(p1.weight)\n",
    "print(p1.name)"
   ]
  },
  {
   "cell_type": "code",
   "execution_count": 13,
   "metadata": {},
   "outputs": [
    {
     "name": "stdout",
     "output_type": "stream",
     "text": [
      "執行初始化\n",
      "90\n",
      "170\n",
      "john\n"
     ]
    }
   ],
   "source": [
    "p2 = Person(\"john\",170,90)\n",
    "print(p2.height)\n",
    "print(p2.weight)\n",
    "print(p2.name)"
   ]
  }
 ],
 "metadata": {
  "interpreter": {
   "hash": "d7022dddf21d42dde7948cdc09ac263eb28788cf8538f118463ed9cc093dc120"
  },
  "kernelspec": {
   "display_name": "Python 3.6.6 ('venv02')",
   "language": "python",
   "name": "python3"
  },
  "language_info": {
   "codemirror_mode": {
    "name": "ipython",
    "version": 3
   },
   "file_extension": ".py",
   "mimetype": "text/x-python",
   "name": "python",
   "nbconvert_exporter": "python",
   "pygments_lexer": "ipython3",
   "version": "3.6.6"
  },
  "orig_nbformat": 4
 },
 "nbformat": 4,
 "nbformat_minor": 2
}
